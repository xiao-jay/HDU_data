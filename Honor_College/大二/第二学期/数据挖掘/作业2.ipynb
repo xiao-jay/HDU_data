{
 "cells": [
  {
   "cell_type": "code",
   "execution_count": 1,
   "id": "dd20cdb6",
   "metadata": {},
   "outputs": [],
   "source": [
    "import math\n",
    "import pandas as pd\n",
    "import numpy as np\n",
    "\n",
    "# Initial\n",
    "num = 0\n",
    "fls = {}\n",
    "fls_tag = {}\n",
    "l = 1"
   ]
  },
  {
   "cell_type": "code",
   "execution_count": 2,
   "id": "e63d2bfe",
   "metadata": {},
   "outputs": [],
   "source": [
    "def bys():\n",
    "    # 训练模型\n",
    "    data = pd.read_csv('西瓜的数据集.csv', header=None)\n",
    "    data = data.drop(0) # 去头\n",
    "    data_ = np.array(data)\n",
    "    for x in data_:\n",
    "        train_model(x[0:6], x[-1])"
   ]
  },
  {
   "cell_type": "code",
   "execution_count": 3,
   "id": "ff38094c",
   "metadata": {},
   "outputs": [],
   "source": [
    "def train_model(all_tag, fl):\n",
    "    global num\n",
    "    num += 1\n",
    "\n",
    "    if fl in fls:\n",
    "        fls[fl] += 1\n",
    "    else:\n",
    "        fls[fl] = 1\n",
    "    if fl not in fls_tag:\n",
    "        fls_tag[fl] = {}\n",
    "\n",
    "    rb = fls_tag[fl]\n",
    "    for tag in all_tag:\n",
    "        if tag in rb:\n",
    "            rb[tag] += 1\n",
    "        else:\n",
    "            rb[tag] = 1\n",
    "\n",
    "def xianyan(fl):\n",
    "    return fls[fl] / num\n",
    "\n",
    "def houyan(tag, fl):\n",
    "    rb = fls_tag[fl]\n",
    "    if tag not in fls_tag[fl]:\n",
    "        return l / (fls[fl] + len(rb) * l)\n",
    "    return (rb[tag] + l) / (fls[fl] + len(rb) * l)"
   ]
  },
  {
   "cell_type": "code",
   "execution_count": 4,
   "id": "fdd9d7ec",
   "metadata": {},
   "outputs": [],
   "source": [
    "def test(tags):\n",
    "    res = ''\n",
    "    res_ = None\n",
    "\n",
    "    for fl in fls.keys():\n",
    "        log_houyan = 0\n",
    "        for tag in tags:\n",
    "            log_houyan += math.log(houyan(tag, fl), 2)\n",
    "        rb = log_houyan + math.log(xianyan(fl), 2)\n",
    "\n",
    "        if res_ is None:\n",
    "            res = fl\n",
    "            res_ = rb\n",
    "        if rb > res_:\n",
    "            res = fl\n",
    "            res_ = rb\n",
    "    return res, res_"
   ]
  },
  {
   "cell_type": "code",
   "execution_count": 5,
   "id": "02516285",
   "metadata": {},
   "outputs": [
    {
     "name": "stdout",
     "output_type": "stream",
     "text": [
      "测试结果： ('是', -16.04904995514414)\n",
      "测试结果： ('是', -16.949514281593228)\n",
      "测试结果： ('是', -15.72712186025678)\n",
      "测试结果： ('是', -17.27144237648059)\n",
      "测试结果： ('是', -17.04904995514414)\n",
      "测试结果： ('是', -18.4413673779229)\n",
      "测试结果： ('是', -20.119439283035536)\n",
      "测试结果： ('是', -16.897046861699092)\n",
      "测试结果： ('是', -20.11943928303554)\n",
      "测试结果： ('否', -22.74380026974484)\n",
      "测试结果： ('否', -21.199479753521032)\n",
      "测试结果： ('否', -20.854831582133585)\n",
      "测试结果： ('是', -18.634012455865296)\n",
      "测试结果： ('否', -20.462514159354825)\n",
      "测试结果： ('是', -18.11943928303554)\n",
      "测试结果： ('否', -20.04747666007598)\n",
      "测试结果： ('是', -19.856404877201744)\n",
      "13\n",
      "朴素贝叶斯算法西瓜分类正确率： 76.47058823529412\n"
     ]
    }
   ],
   "source": [
    "if __name__ == '__main__':\n",
    "    bys()\n",
    "    data = pd.read_csv('西瓜的数据集.csv', header=None)\n",
    "    data__ = np.array(data)\n",
    "    res = []\n",
    "    for i in range (1, len(data)):\n",
    "        rub = data__[i][-1]\n",
    "        res.append(rub)\n",
    "\n",
    "    ans = []\n",
    "    count = 0\n",
    "    for i in range(1, len(data)):\n",
    "        print('测试结果：', test(data__[i]))\n",
    "        rub = test(data__[i])\n",
    "        ans.append(rub[0])\n",
    "    for i in range(0, len(data) - 1):\n",
    "        if ans[i] == res[i]:\n",
    "            count = count + 1\n",
    "    print(count)\n",
    "    \n",
    "    print('朴素贝叶斯算法西瓜分类正确率：', count * 100.0 / (len(data) - 1))"
   ]
  }
 ],
 "metadata": {
  "kernelspec": {
   "display_name": "Python 3 (ipykernel)",
   "language": "python",
   "name": "python3"
  },
  "language_info": {
   "codemirror_mode": {
    "name": "ipython",
    "version": 3
   },
   "file_extension": ".py",
   "mimetype": "text/x-python",
   "name": "python",
   "nbconvert_exporter": "python",
   "pygments_lexer": "ipython3",
   "version": "3.9.7"
  }
 },
 "nbformat": 4,
 "nbformat_minor": 5
}
